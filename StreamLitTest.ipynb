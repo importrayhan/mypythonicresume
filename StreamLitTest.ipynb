{
  "nbformat": 4,
  "nbformat_minor": 0,
  "metadata": {
    "colab": {
      "name": "StreamLit.ipynb",
      "provenance": [],
      "authorship_tag": "ABX9TyPf1ltAsoWyloUfIRstGPpM",
      "include_colab_link": true
    },
    "kernelspec": {
      "name": "python3",
      "display_name": "Python 3"
    }
  },
  "cells": [
    {
      "cell_type": "markdown",
      "metadata": {
        "id": "view-in-github",
        "colab_type": "text"
      },
      "source": [
        "<a href=\"https://colab.research.google.com/github/importrayhan/mypythonicresume/blob/main/StreamLitTest.ipynb\" target=\"_parent\"><img src=\"https://colab.research.google.com/assets/colab-badge.svg\" alt=\"Open In Colab\"/></a>"
      ]
    },
    {
      "cell_type": "code",
      "metadata": {
        "id": "DNVVLCD_p7Co"
      },
      "source": [
        "!pip install -q pyngrok\r\n",
        "\r\n",
        "!pip install -q streamlit\r\n",
        "\r\n",
        "!pip install -q streamlit_ace"
      ],
      "execution_count": 1,
      "outputs": []
    },
    {
      "cell_type": "code",
      "metadata": {
        "colab": {
          "base_uri": "https://localhost:8080/"
        },
        "id": "4c4NRHokqGgi",
        "outputId": "6ef04ffa-6e59-41ce-da05-8e0e165bf860"
      },
      "source": [
        "!ngrok authtoken  "
      ],
      "execution_count": 2,
      "outputs": [
        {
          "output_type": "stream",
          "text": [
            "Authtoken saved to configuration file: /root/.ngrok2/ngrok.yml\n"
          ],
          "name": "stdout"
        }
      ]
    },
    {
      "cell_type": "code",
      "metadata": {
        "id": "QKoXvgKddgQg",
        "colab": {
          "base_uri": "https://localhost:8080/"
        },
        "outputId": "bb5d4b6f-9f51-4f82-824e-e50383b98f8c"
      },
      "source": [
        "%%writefile app.py\r\n",
        "\r\n",
        "import streamlit as st\r\n",
        "st.set_page_config(page_title='RAYHAN', page_icon = ':rat:',  initial_sidebar_state = 'auto')\r\n",
        "class about:\r\n",
        "  def write():\r\n",
        "      \"\"\"Used to write the about page in the app.py file\"\"\"\r\n",
        "      st.title(\"Un Esprit Curieux - A curious mind! :sleuth_or_spy:\")\r\n",
        "      st.markdown(\r\n",
        "              \"\"\"## Who Am I?\r\n",
        "  \"_I am a Random Forest in the World of Overfitting_\"\r\n",
        "  A Data Scientist with 5 years of experience in solving Business Problems, \r\n",
        "  a constant learner and a firm believer of experimentation over expertise. \r\n",
        "  Always on the lookout for new technologies, I am passionate about designing Data driven solutions which are easy, economical and can be scaled.\r\n",
        "  \r\n",
        "  **Abhishek Gupta**\\n\r\n",
        "  **Data Science | Business Analytics | Project Management **\r\n",
        "  [**LinkedIn**](https://www.linkedin.com/in/abhishek-gupta-/) | [**Email**](mailto:abhishek.2.gupta@uconn.edu)\r\n",
        "  ## The Project\r\n",
        "  I came across **Streamlit** last week while looking for solution to host python apps on AWS EC2. \r\n",
        "  The Framework  boasts of being the easiest and the fastest way of creating interactive apps, and after spending just a \r\n",
        "  few hours creating this interactive resume, I can vouch for that. \r\n",
        "  Check out my [**GitHub**]() for the implementation. Reach out to me for any project or a simple discussion on Streamlit.\r\n",
        "  Also check out their [**page**](https://www.streamlit.io/) for more more information and updates.\r\n",
        "  Also check out this amazing implementation of Streamlit by [**Marc Skov Madsen**](http://awesome-streamlit.org/) for streamlit inspiration.\r\n",
        "  \"\"\",\r\n",
        "              unsafe_allow_html=True,\r\n",
        "          )\r\n",
        "      hide_streamlit_style = \"\"\"\r\n",
        "            <style>\r\n",
        "            #MainMenu {visibility: hidden;}\r\n",
        "            footer {visibility: hidden;}\r\n",
        "            </style>\r\n",
        "            \"\"\"\r\n",
        "      st.markdown(hide_streamlit_style, unsafe_allow_html=True)  \r\n",
        "#====================================================================================================================\r\n",
        "class edu:\r\n",
        "  def write():\r\n",
        "      \"\"\"Used to write the page in the app.py file\"\"\"\r\n",
        "      st.title(\"Education :books:\")\r\n",
        "      st.markdown(\r\n",
        "              \"\"\"### University of Connecticut School of Business\r\n",
        "\r\n",
        "  **Master of Science in Business Analytics and Project Management | May 2020** | [**UConn**](https://www.business.uconn.edu/)\\n\r\n",
        "  GPA 4.00/4.00 | Beta Gamma Sigma Honoree \r\n",
        "  **Courses ** \\n\r\n",
        "  - Statistics in Business Analytics \\n\r\n",
        "  - Big Data Analytics with Hadoop \\n\r\n",
        "  - Business Decision Modelling \\n\r\n",
        "  - Predictive Analytics \\n\r\n",
        "  - Data Mining and Business Analytics \\n\r\n",
        "  - Introduction to Project Management \\n\r\n",
        "  - Advanced Business Analytics and Project Management \\n\r\n",
        "  - Adaptive Business Intelligence \\n\r\n",
        "  - Project Risk and Cost Management \\n\r\n",
        "  - Project Leadership and Communication \\n\r\n",
        "  ### Distance Learning\r\n",
        "  **University of Michigan | June 2020** | [Credential](https://coursera.org/share/eb4b7f377b485efe57dafbf0ef9e9178)\\n\r\n",
        "  - Applied Text Mining\r\n",
        "  **Deeplearning.ai | April 2020** | [Credential](https://coursera.org/share/a07ae8b31a11a44f30fe4f77d6d6c0cc)\\n\r\n",
        "  - Structuring Machine Learning Projects\r\n",
        "  **A Cloud Guru| February 2020** | [Credential](https://verify.acloud.guru/5F4E6B310B93)\\n\r\n",
        "  - AWS certified cloud practitioner 2020\r\n",
        "  ### Manipal Institute of Technology\r\n",
        "  **Bachelors of Technology in Mechanical Engineering | May 2015** | [**MIT**](https://manipal.edu/mit.html)\\n\r\n",
        "  GPA 8.54/10.00 \r\n",
        "  **Courses **\\n\r\n",
        "  - Essentials of management\\n\r\n",
        "  - Engineering Economics and Management \\n\r\n",
        "  - Object Oriented Programming \\n\r\n",
        "  - Business Communications \\n\r\n",
        "  - Operational Research\r\n",
        "  \"\"\",\r\n",
        "              unsafe_allow_html=True,\r\n",
        "          )\r\n",
        "      hide_streamlit_style = \"\"\"\r\n",
        "            <style>\r\n",
        "            #MainMenu {visibility: hidden;}\r\n",
        "            footer {visibility: hidden;}\r\n",
        "            </style>\r\n",
        "            \"\"\"\r\n",
        "      st.markdown(hide_streamlit_style, unsafe_allow_html=True)  \r\n",
        "#======================================================================================================================      \r\n",
        "class skills:\r\n",
        "  def write():\r\n",
        "      \"\"\"Used to write the page in the app.py file\"\"\"\r\n",
        "      st.title(\"Skills :hammer_and_wrench:\")\r\n",
        "      st.markdown(\r\n",
        "              \"\"\"## Languages\r\n",
        "  - R\r\n",
        "  - Python\r\n",
        "  - SQL \r\n",
        "  - VBA\r\n",
        "  ## Platforms and Libraries\r\n",
        "  - **SAS** - JMP, Enterprise Miner and Enterprise Guide\r\n",
        "  - **MS Office** - Excel, Powerpoint, Project, Word\r\n",
        "  - **Python** - Pandas, Numpy, Skicit Learn,Scipy, NLTK, Tensorflow, Keras, Streamlit, Dash, Plotly, Matplotlib, Seaborn, etc.\r\n",
        "  - **R** - Shiny, Dplyr\r\n",
        "  - **SQL** - MS SQL, PostgreSQL,HIVE, HANA, Teradata \r\n",
        "  - Tableau\r\n",
        "  - PowerBI\r\n",
        "  - Qlik View\r\n",
        "  - JIRA, Confluence\r\n",
        "  ## Analytical Skills\r\n",
        "  - Statistical Data Analysis\r\n",
        "  - Data Wrangling\r\n",
        "  - Hypothesis Testing\r\n",
        "  - Machine Learning\r\n",
        "  - Natural Language Processing\r\n",
        "  - Web Scraping\r\n",
        "  ## AWS Stack\r\n",
        "  - EC2\r\n",
        "  - Lambda\r\n",
        "  - S3\r\n",
        "  - RDS - Redshift, Aurora, MS SQL\r\n",
        "  - Dynamo DB\r\n",
        "  - Sagemaker\r\n",
        "  - Lex, Polly\r\n",
        "  - Cloudfront\r\n",
        "  - IAM\r\n",
        "              \r\n",
        "  _I am a Random Forest in the World of Overfitting_\r\n",
        "  \"\"\",\r\n",
        "              unsafe_allow_html=True,\r\n",
        "  )\r\n",
        "      hide_streamlit_style = \"\"\"\r\n",
        "            <style>\r\n",
        "            #MainMenu {visibility: hidden;}\r\n",
        "            footer {visibility: hidden;}\r\n",
        "            </style>\r\n",
        "            \"\"\"\r\n",
        "      st.markdown(hide_streamlit_style, unsafe_allow_html=True)\r\n",
        "#======================================================================================================================      \r\n",
        "class projects:\r\n",
        "  def write():\r\n",
        "      \"\"\"Used to write the page in the app.py file\"\"\"\r\n",
        "      st.title(\"Projects - :male-construction-worker: \")\r\n",
        "      st.markdown(\r\n",
        "              \"\"\"### Graduate Consultant, LIMRA | Aug 2019 – Dec 2019\r\n",
        "              \r\n",
        "  **Life insurance Policy Lapse Study [AWS Sagemaker, S3, Python, MS Project]**\r\n",
        "  - Performed exploratory data analysis on 9.6 million records of aggregated data about “premium persistency” and analyzed the frequency and causes of lapses using Tableau\r\n",
        "  - Built XGBoost classification model with 83% precision, 76% recall using AWS Sagemaker to predict customer churn \r\n",
        "              \r\n",
        "  ### Decision Scientist, Mu Sigma Inc.| July 2015 - Dec 2020\r\n",
        "  **Web Application for a Major US Retailer [SQL- Teradata, HANA, HIVE, Agile-JIRA]**\r\n",
        "  - Managed agile teams working on development of a web-based Business Intelligence dashboard to rate ~51k vendors based on key performance indicators like OTIF and In-stock Metrics\r\n",
        "  - Led a team of five analysts to develop SQL queries, calculation views and stored procedures to extract data for front-end visualizations\r\n",
        "  **Sales and revenue reporting for a US Technology giant [Excel, VBA, SSIS-ETL]**\r\n",
        "  - Developed multiple Power BI and Excel dashboards explaining sales and revenues across different business units.\r\n",
        "  - Performed Extract Transform Load of data files from several Data Sources to feed the DataCube backend for the reports\r\n",
        "  - Created data quality dashboard using VBA and excel to accurately identify data discrepancy issues between reports reducing the time for manual verification by 90%\r\n",
        "  **Predicting potential product complaints [Regex, NLP, Random Forest]**\r\n",
        "  - Processed customer complaints data using regex and NLP to identify common topics and establish a cause effect relationship with quality control tests’ data from a refrigerator assembly line\r\n",
        "  - Created a scalable tool on SAS Visual Analytics to speed up identifying issues during production, leading to 25% improvement in parts availability during assembly\r\n",
        "  ### Academic Projects [(GitHub)](https://github.com/alphadatagamma)\r\n",
        "  **The Cricket Project [BeautifulSoup, Regex, AWS Sagemaker, S3, Redshift, Tableau]**\r\n",
        "  - Used BeautifulSoup and Regex to scrape cricket data for 10 countries and ~6000 players using AWS Sagemaker and EC2 \r\n",
        "  - Created a data warehouse in AWS Redshift, and a tableau dashboard to visualize key trends\r\n",
        "  **Advance House Price Prediction in Python [Kaggle Top 2%, Stacked Regression]**\r\n",
        "  - Created a custom stacked regression model to predict sale price for 1500 houses and achieved a low RMSE of 0.11 for the final model and a top 2% rank on the leaderboard\r\n",
        "  **IBM Attrition Analysis and Prediction [Python, Tableau, Decision Trees]**\r\n",
        "  - Performed exploratory data analysis and external research to identify the mix of drivers affecting employee attrition rates  \r\n",
        "  - Created a classification model using Decision trees and Gradient Boosting to identify employees that are likely to leave, so that the company can have a strategy for employee engagement\r\n",
        "              \r\n",
        "  \"\"\",\r\n",
        "              unsafe_allow_html=True,\r\n",
        "          )\r\n",
        "      hide_streamlit_style = \"\"\"\r\n",
        "              <style>\r\n",
        "              #MainMenu {visibility: hidden;}\r\n",
        "              footer {visibility: hidden;}\r\n",
        "              </style>\r\n",
        "              \"\"\"\r\n",
        "      st.markdown(hide_streamlit_style, unsafe_allow_html=True)        \r\n",
        "#======================================================================================================================\r\n",
        "class recommendations:\r\n",
        "  def write():\r\n",
        "      \"\"\"Used to write the page in the app.py file\"\"\"\r\n",
        "      st.title(\"Recommendations :memo:\")\r\n",
        "      st.markdown(\r\n",
        "              \"\"\"### Anantha Krishna Rajpurohit\r\n",
        "  **Senior Analyst | Boston Consulting Group(BCG) | April 5, 2020** | [**LinkedIn**](https://www.linkedin.com/in/anantha-krishna-rajpurohit/)\\n\r\n",
        "  Abhishek joined as a fresher into the team. He brings in a lot of energy into the team and gives his \r\n",
        "  100%. He was reliable to finish the job at hand and actively reach out for help from peers and managers. \r\n",
        "  Always looked to up-skill on a regular basis and actively looked for new skills in the analytics space. \r\n",
        "  Since then he grew over three years at Mu Sigma to be able to move on the bigger responsibilities, \r\n",
        "  mentoring juniors, managing modules and delivering high quality results. With his recent addition of MS \r\n",
        "  in business analytics, I recommend him for any position that require depth in analytics, \r\n",
        "  reliability and project management skills\r\n",
        "  \r\n",
        "  ### Abhinav Dasgupta\r\n",
        "  **Deputy Director | Myntra Jabong | April 5, 2020** | [**LinkedIn**](https://www.linkedin.com/in/abhinav-dasgupta-a0670422/)  \\n\r\n",
        "  Abhishek was part of the team working with a leading manufacturing giant which I was leading. \r\n",
        "  Abhishek brought a great sense of maturity and work ethic coupled with excellent analytical skills \r\n",
        "  to the team and ensured we constantly created a good experience for the client stakeholders. \r\n",
        "  We solved some of the most complex problems for the business and he was pivotal in making it happen. \r\n",
        "  In addition, he has a continuous zeal to learn and improve himself, which was also reflected in his \r\n",
        "  decision to pursue masters in the area of analytics. I really enjoyed working with Abhishek \r\n",
        "  during his time at Mu Sigma and think he will be a top asset to any team that he will be part of.\r\n",
        "  ### Tara Chamberlain\r\n",
        "  **Senior Operations Manager| AT&T | February 5, 2020** | [**LinkedIn**](https://www.linkedin.com/in/tara-chamberlain-832b991a/)  \\n\r\n",
        "  Abhishek was a member of my Capstone team at UCONN and proved to be an invaluable asset. He was not \r\n",
        "  only adept at all data cleaning, modeling, and visualization methods that our team utilized, but\r\n",
        "  also took the lead in our research. He ended up uncovering key information that no one, not even our \r\n",
        "  professor or sponsors, was aware of. The team that I run at my current company doesn't \r\n",
        "      have any openings, but it we did, I would be happy to have him join our organization.\r\n",
        "  \"\"\",\r\n",
        "          unsafe_allow_html=True\r\n",
        "      )\r\n",
        "      hide_streamlit_style = \"\"\"\r\n",
        "              <style>\r\n",
        "              #MainMenu {visibility: hidden;}\r\n",
        "              footer {visibility: hidden;}\r\n",
        "              </style>\r\n",
        "              \"\"\"\r\n",
        "      st.markdown(hide_streamlit_style, unsafe_allow_html=True)   \r\n",
        "#======================================================================================================================\r\n",
        "PAGES = {\r\n",
        "    \"About\": about,\r\n",
        "    \"Education\" : edu,\r\n",
        "    \"Skills\": skills,\r\n",
        "    \"Projects\": projects,\r\n",
        "    \"Recommendations\": recommendations\r\n",
        "}\r\n",
        "\r\n",
        "def main():\r\n",
        "    \"\"\"Main function of App\"\"\"\r\n",
        "    st.sidebar.title(\"Navigation\")\r\n",
        "    selection = st.sidebar.radio(\"Go to\", list(PAGES.keys()))\r\n",
        "\r\n",
        "    page = PAGES[selection]\r\n",
        "    \r\n",
        "    with st.spinner(f\"Loading {selection} ...\"):\r\n",
        "        page.write()\r\n",
        "\r\n",
        "    st.sidebar.title(\"Hire Me\")\r\n",
        "    st.sidebar.info(\r\n",
        "        \"\"\"\r\n",
        "        If you are looking to hire a Data Scientist, \r\n",
        "        [email me](mailto:abhishek.2.gupta@uconn.edu) or reach out \r\n",
        "        to me on [LinkedIn](https://www.linkedin.com/in/abhishek-gupta-/)\r\n",
        "\"\"\")\r\n",
        "    st.sidebar.title(\"Additional Info\")\r\n",
        "    st.sidebar.info(\r\n",
        "        \"This an interactive streamlit app completely created with Python's latest library **streamlit** \"\r\n",
        "        \"Do reach out to me on [LinkedIn](https://www.linkedin.com/in/abhishek-gupta-/) or \"\r\n",
        "        \"at [Mail me](mailto:abhishek.2.gupta@uconn.edu) to know more. \"\r\n",
        "        \"Also check the [source code](https://github.com/alphadatagamma/Streamlit-Resume-App) here. \"  \r\n",
        "\r\n",
        ")\r\n",
        "    hide_streamlit_style = \"\"\"\r\n",
        "                <style>\r\n",
        "                #MainMenu {visibility: hidden;}\r\n",
        "                footer {visibility: hidden;}\r\n",
        "                </style>\r\n",
        "                \"\"\"\r\n",
        "    st.markdown(hide_streamlit_style, unsafe_allow_html=True)\r\n",
        "\r\n",
        "\r\n",
        "if __name__ == \"__main__\":\r\n",
        "    main()"
      ],
      "execution_count": 37,
      "outputs": [
        {
          "output_type": "stream",
          "text": [
            "Overwriting app.py\n"
          ],
          "name": "stdout"
        }
      ]
    },
    {
      "cell_type": "code",
      "metadata": {
        "id": "xXEdkfwhsliT"
      },
      "source": [
        "!streamlit run app.py &>/dev/null&"
      ],
      "execution_count": 38,
      "outputs": []
    },
    {
      "cell_type": "code",
      "metadata": {
        "colab": {
          "base_uri": "https://localhost:8080/"
        },
        "id": "GG0r53a7sp7A",
        "outputId": "2ed199c6-224d-496f-b009-8371f8394d00"
      },
      "source": [
        "from pyngrok import ngrok\r\n",
        " \r\n",
        "public_url = ngrok.connect('8501')\r\n",
        "public_url"
      ],
      "execution_count": 8,
      "outputs": [
        {
          "output_type": "execute_result",
          "data": {
            "text/plain": [
              "<NgrokTunnel: \"http://75fe2ea244ad.ngrok.io\" -> \"http://localhost:8501\">"
            ]
          },
          "metadata": {
            "tags": []
          },
          "execution_count": 8
        }
      ]
    },
    {
      "cell_type": "code",
      "metadata": {
        "id": "C4dSyV7wstDO"
      },
      "source": [
        "ngrok.kill()"
      ],
      "execution_count": null,
      "outputs": []
    },
    {
      "cell_type": "code",
      "metadata": {
        "id": "qc1mtwVMdGXW"
      },
      "source": [
        ""
      ],
      "execution_count": null,
      "outputs": []
    }
  ]
}
